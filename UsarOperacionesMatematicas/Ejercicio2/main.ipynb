{
 "cells": [
  {
   "cell_type": "markdown",
   "metadata": {},
   "source": [
    "# Convierte cadenas en numeros y usa valores absolutos"
   ]
  },
  {
   "cell_type": "code",
   "execution_count": 55,
   "metadata": {},
   "outputs": [
    {
     "name": "stdout",
     "output_type": "stream",
     "text": [
      "\n",
      "\n"
     ]
    }
   ],
   "source": [
    "planetas = []\n",
    "\n",
    "\n",
    "def ingresar_informacion():\n",
    "    \n",
    "    for _ in range(2):\n",
    "\n",
    "        planeta = input('Ingresa planeta: ')\n",
    "        distancia = input('Ingresa distancia: ')\n",
    "        planetas.append({'planeta': planeta, 'distancia': distancia})\n",
    "        print()\n",
    "\n",
    "\n",
    "ingresar_informacion()"
   ]
  },
  {
   "cell_type": "code",
   "execution_count": 56,
   "metadata": {},
   "outputs": [],
   "source": [
    "num1 = int(planetas[0]['distancia'])\n",
    "num2 = int(planetas[1]['distancia'])"
   ]
  },
  {
   "cell_type": "code",
   "execution_count": 57,
   "metadata": {},
   "outputs": [
    {
     "name": "stdout",
     "output_type": "stream",
     "text": [
      "distancia: 628949330\n",
      "distancia en millas: 390577533.93\n"
     ]
    }
   ],
   "source": [
    "def calcular_distancia(num1, num2):\n",
    "    \n",
    "    return num1-num2\n",
    "\n",
    "\n",
    "distancia = calcular_distancia(num1, num2)\n",
    "\n",
    "\n",
    "print(f'distancia: {distancia}')\n",
    "print(f'distancia en millas: {abs(distancia* 0.621)}')"
   ]
  }
 ],
 "metadata": {
  "interpreter": {
   "hash": "74756ebef3aacf89df4beb8ec99ca9f43fa2a46955f7ab06bd848195cea45570"
  },
  "kernelspec": {
   "display_name": "Python 3.9.10 64-bit",
   "language": "python",
   "name": "python3"
  },
  "language_info": {
   "codemirror_mode": {
    "name": "ipython",
    "version": 3
   },
   "file_extension": ".py",
   "mimetype": "text/x-python",
   "name": "python",
   "nbconvert_exporter": "python",
   "pygments_lexer": "ipython3",
   "version": "3.9.10"
  },
  "orig_nbformat": 4
 },
 "nbformat": 4,
 "nbformat_minor": 2
}
