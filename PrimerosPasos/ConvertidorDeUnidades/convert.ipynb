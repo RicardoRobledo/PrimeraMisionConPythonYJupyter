{
 "cells": [],
 "metadata": {
  "interpreter": {
   "hash": "74756ebef3aacf89df4beb8ec99ca9f43fa2a46955f7ab06bd848195cea45570"
  },
  "kernelspec": {
   "display_name": "Python 3.9.10 64-bit",
   "language": "python",
   "name": "python3"
  },
  "language_info": {
   "codemirror_mode": {
    "name": "ipython",
    "version": 3
   },
   "file_extension": ".py",
   "mimetype": "text/x-python",
   "name": "python",
   "nbconvert_exporter": "python",
   "pygments_lexer": "ipython3",
   "version": "3.9.10"
  },
  "orig_nbformat": 4
 },
 "nbformat": 4,
 "nbformat_minor": 2
}
