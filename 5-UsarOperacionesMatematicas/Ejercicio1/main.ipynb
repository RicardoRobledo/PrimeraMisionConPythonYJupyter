{
 "cells": [
  {
   "cell_type": "markdown",
   "metadata": {},
   "source": [
    "# Utilizar operadores aritmeticos"
   ]
  },
  {
   "cell_type": "code",
   "execution_count": 17,
   "metadata": {},
   "outputs": [],
   "source": [
    "tierra = '149.597.870'.replace('.', '')\n",
    "jupiter = '778.547.200'.replace('.', '')\n",
    "\n",
    "def calcular_distancia():\n",
    "    return int(jupiter)-int(tierra)"
   ]
  },
  {
   "cell_type": "code",
   "execution_count": 18,
   "metadata": {},
   "outputs": [
    {
     "name": "stdout",
     "output_type": "stream",
     "text": [
      "distancia: 628949330 millas\n",
      "distancia: 390577533.93 millas\n"
     ]
    }
   ],
   "source": [
    "print(f'distancia: {calcular_distancia()} millas')"
   ]
  }
 ],
 "metadata": {
  "interpreter": {
   "hash": "74756ebef3aacf89df4beb8ec99ca9f43fa2a46955f7ab06bd848195cea45570"
  },
  "kernelspec": {
   "display_name": "Python 3.9.10 64-bit",
   "language": "python",
   "name": "python3"
  },
  "language_info": {
   "codemirror_mode": {
    "name": "ipython",
    "version": 3
   },
   "file_extension": ".py",
   "mimetype": "text/x-python",
   "name": "python",
   "nbconvert_exporter": "python",
   "pygments_lexer": "ipython3",
   "version": "3.9.10"
  },
  "orig_nbformat": 4
 },
 "nbformat": 4,
 "nbformat_minor": 2
}
