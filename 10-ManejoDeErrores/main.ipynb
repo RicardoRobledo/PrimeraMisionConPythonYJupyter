{
 "cells": [
  {
   "cell_type": "markdown",
   "metadata": {},
   "source": [
    "# Manejo de errores"
   ]
  },
  {
   "cell_type": "code",
   "execution_count": 17,
   "metadata": {},
   "outputs": [
    {
     "name": "stdout",
     "output_type": "stream",
     "text": [
      "Couldn't find the config.txt file!: [Errno 2] No such file or directory: 'config.txt'\n"
     ]
    }
   ],
   "source": [
    "def main():\n",
    "    try:\n",
    "        configuration = open('config.txt')\n",
    "    except FileNotFoundError as err:\n",
    "        print(f\"Couldn't find the config.txt file!: {err}\")\n",
    "    except IsADirectoryError:\n",
    "        print(\"Found config.txt but it is a directory, couldn't read it\")\n",
    "    except (BlockingIOError, TimeoutError):\n",
    "        print(\"Filesystem under heavy load, can't complete reading configuration file\")\n",
    "    except OSError as err:\n",
    "        if err.errno == 2:\n",
    "            print(\"Couldn't find the config.txt file!\")\n",
    "        elif err.errno == 13:\n",
    "            print(\"Found config.txt but couldn't read it\")\n",
    "\n",
    "\n",
    "if __name__ == '__main__':\n",
    "    main()"
   ]
  },
  {
   "cell_type": "code",
   "execution_count": 18,
   "metadata": {},
   "outputs": [],
   "source": [
    "def water_left(astronauts, water_left, days_left):\n",
    "    daily_usage = astronauts * 11\n",
    "    total_usage = daily_usage * days_left\n",
    "    total_water_left = water_left - total_usage\n",
    "    return f\"Total water left after {days_left} days is: {total_water_left} liters\""
   ]
  },
  {
   "cell_type": "code",
   "execution_count": 19,
   "metadata": {},
   "outputs": [
    {
     "name": "stdout",
     "output_type": "stream",
     "text": [
      "Total water left after 2 days is: -10 liters\n"
     ]
    }
   ],
   "source": [
    "print(water_left(5, 100, 2))"
   ]
  },
  {
   "cell_type": "code",
   "execution_count": 20,
   "metadata": {},
   "outputs": [],
   "source": [
    "def water_left(astronauts, water_left, days_left):\n",
    "    daily_usage = astronauts * 11\n",
    "    total_usage = daily_usage * days_left\n",
    "    total_water_left = water_left - total_usage\n",
    "    if total_water_left < 0:\n",
    "        raise RuntimeError(f\"There is not enough water for {astronauts} astronauts after {days_left} days!\")\n",
    "    return f\"Total water left after {days_left} days is: {total_water_left} liters\""
   ]
  },
  {
   "cell_type": "code",
   "execution_count": 21,
   "metadata": {},
   "outputs": [
    {
     "name": "stdout",
     "output_type": "stream",
     "text": [
      "There is not enough water for 5 astronauts after 2 days!\n"
     ]
    }
   ],
   "source": [
    "try:\n",
    "    print(water_left(5, 100, 2))\n",
    "except RuntimeError as err:\n",
    "    print(err)"
   ]
  },
  {
   "cell_type": "code",
   "execution_count": 22,
   "metadata": {},
   "outputs": [],
   "source": [
    "def water_left(astronauts, water_left, days_left):\n",
    "    for argument in [astronauts, water_left, days_left]:\n",
    "        try:\n",
    "            argument / 10\n",
    "        except TypeError:\n",
    "            raise TypeError(f\"All arguments must be of type int, but received: '{argument}'\")\n",
    "    daily_usage = astronauts * 11\n",
    "    total_usage = daily_usage * days_left\n",
    "    total_water_left = water_left - total_usage\n",
    "    if total_water_left < 0:\n",
    "        raise RuntimeError(f\"There is not enough water for {astronauts} astronauts after {days_left} days!\")\n",
    "    return f\"Total water left after {days_left} days is: {total_water_left} liters\""
   ]
  },
  {
   "cell_type": "code",
   "execution_count": 23,
   "metadata": {},
   "outputs": [
    {
     "ename": "TypeError",
     "evalue": "All arguments must be of type int, but received: '3'",
     "output_type": "error",
     "traceback": [
      "\u001b[1;31m---------------------------------------------------------------------------\u001b[0m",
      "\u001b[1;31mTypeError\u001b[0m                                 Traceback (most recent call last)",
      "\u001b[1;32mc:\\Users\\RSSpe\\Documents\\aprendizaje\\CursoFullStack(Microsoft)\\Python\\10-ManejoDeErrores\\main.ipynb Cell 7'\u001b[0m in \u001b[0;36mwater_left\u001b[1;34m(astronauts, water_left, days_left)\u001b[0m\n\u001b[0;32m      <a href='vscode-notebook-cell:/c%3A/Users/RSSpe/Documents/aprendizaje/CursoFullStack%28Microsoft%29/Python/10-ManejoDeErrores/main.ipynb#ch0000006?line=2'>3</a>\u001b[0m \u001b[39mtry\u001b[39;00m:\n\u001b[1;32m----> <a href='vscode-notebook-cell:/c%3A/Users/RSSpe/Documents/aprendizaje/CursoFullStack%28Microsoft%29/Python/10-ManejoDeErrores/main.ipynb#ch0000006?line=3'>4</a>\u001b[0m     argument \u001b[39m/\u001b[39;49m \u001b[39m10\u001b[39;49m\n\u001b[0;32m      <a href='vscode-notebook-cell:/c%3A/Users/RSSpe/Documents/aprendizaje/CursoFullStack%28Microsoft%29/Python/10-ManejoDeErrores/main.ipynb#ch0000006?line=4'>5</a>\u001b[0m \u001b[39mexcept\u001b[39;00m \u001b[39mTypeError\u001b[39;00m:\n",
      "\u001b[1;31mTypeError\u001b[0m: unsupported operand type(s) for /: 'str' and 'int'",
      "\nDuring handling of the above exception, another exception occurred:\n",
      "\u001b[1;31mTypeError\u001b[0m                                 Traceback (most recent call last)",
      "\u001b[1;32mc:\\Users\\RSSpe\\Documents\\aprendizaje\\CursoFullStack(Microsoft)\\Python\\10-ManejoDeErrores\\main.ipynb Cell 8'\u001b[0m in \u001b[0;36m<module>\u001b[1;34m\u001b[0m\n\u001b[1;32m----> <a href='vscode-notebook-cell:/c%3A/Users/RSSpe/Documents/aprendizaje/CursoFullStack%28Microsoft%29/Python/10-ManejoDeErrores/main.ipynb#ch0000007?line=0'>1</a>\u001b[0m water_left(\u001b[39m\"\u001b[39;49m\u001b[39m3\u001b[39;49m\u001b[39m\"\u001b[39;49m, \u001b[39m\"\u001b[39;49m\u001b[39m200\u001b[39;49m\u001b[39m\"\u001b[39;49m, \u001b[39mNone\u001b[39;49;00m)\n",
      "\u001b[1;32mc:\\Users\\RSSpe\\Documents\\aprendizaje\\CursoFullStack(Microsoft)\\Python\\10-ManejoDeErrores\\main.ipynb Cell 7'\u001b[0m in \u001b[0;36mwater_left\u001b[1;34m(astronauts, water_left, days_left)\u001b[0m\n\u001b[0;32m      <a href='vscode-notebook-cell:/c%3A/Users/RSSpe/Documents/aprendizaje/CursoFullStack%28Microsoft%29/Python/10-ManejoDeErrores/main.ipynb#ch0000006?line=3'>4</a>\u001b[0m         argument \u001b[39m/\u001b[39m \u001b[39m10\u001b[39m\n\u001b[0;32m      <a href='vscode-notebook-cell:/c%3A/Users/RSSpe/Documents/aprendizaje/CursoFullStack%28Microsoft%29/Python/10-ManejoDeErrores/main.ipynb#ch0000006?line=4'>5</a>\u001b[0m     \u001b[39mexcept\u001b[39;00m \u001b[39mTypeError\u001b[39;00m:\n\u001b[1;32m----> <a href='vscode-notebook-cell:/c%3A/Users/RSSpe/Documents/aprendizaje/CursoFullStack%28Microsoft%29/Python/10-ManejoDeErrores/main.ipynb#ch0000006?line=5'>6</a>\u001b[0m         \u001b[39mraise\u001b[39;00m \u001b[39mTypeError\u001b[39;00m(\u001b[39mf\u001b[39m\u001b[39m\"\u001b[39m\u001b[39mAll arguments must be of type int, but received: \u001b[39m\u001b[39m'\u001b[39m\u001b[39m{\u001b[39;00margument\u001b[39m}\u001b[39;00m\u001b[39m'\u001b[39m\u001b[39m\"\u001b[39m)\n\u001b[0;32m      <a href='vscode-notebook-cell:/c%3A/Users/RSSpe/Documents/aprendizaje/CursoFullStack%28Microsoft%29/Python/10-ManejoDeErrores/main.ipynb#ch0000006?line=6'>7</a>\u001b[0m daily_usage \u001b[39m=\u001b[39m astronauts \u001b[39m*\u001b[39m \u001b[39m11\u001b[39m\n\u001b[0;32m      <a href='vscode-notebook-cell:/c%3A/Users/RSSpe/Documents/aprendizaje/CursoFullStack%28Microsoft%29/Python/10-ManejoDeErrores/main.ipynb#ch0000006?line=7'>8</a>\u001b[0m total_usage \u001b[39m=\u001b[39m daily_usage \u001b[39m*\u001b[39m days_left\n",
      "\u001b[1;31mTypeError\u001b[0m: All arguments must be of type int, but received: '3'"
     ]
    }
   ],
   "source": [
    "water_left(\"3\", \"200\", None)"
   ]
  }
 ],
 "metadata": {
  "interpreter": {
   "hash": "74756ebef3aacf89df4beb8ec99ca9f43fa2a46955f7ab06bd848195cea45570"
  },
  "kernelspec": {
   "display_name": "Python 3.9.10 64-bit",
   "language": "python",
   "name": "python3"
  },
  "language_info": {
   "codemirror_mode": {
    "name": "ipython",
    "version": 3
   },
   "file_extension": ".py",
   "mimetype": "text/x-python",
   "name": "python",
   "nbconvert_exporter": "python",
   "pygments_lexer": "ipython3",
   "version": "3.9.10"
  },
  "orig_nbformat": 4
 },
 "nbformat": 4,
 "nbformat_minor": 2
}
