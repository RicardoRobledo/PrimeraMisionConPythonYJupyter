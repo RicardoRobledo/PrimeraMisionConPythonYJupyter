{
 "cells": [
  {
   "cell_type": "markdown",
   "metadata": {},
   "source": [
    "# Transformar cadenas"
   ]
  },
  {
   "cell_type": "code",
   "execution_count": 9,
   "metadata": {},
   "outputs": [],
   "source": [
    "text = \"\"\"Interesting facts about the Moon. The Moon is Earth's only satellite. There are several interesting facts about the Moon and how it affects life here on Earth. On average, the Moon moves 4cm away from the Earth every year. This yearly drift is not significant enough to cause immediate effects on Earth. The highest daylight temperature of the Moon is 127 C.\"\"\""
   ]
  },
  {
   "cell_type": "code",
   "execution_count": 10,
   "metadata": {},
   "outputs": [
    {
     "name": "stdout",
     "output_type": "stream",
     "text": [
      "['Interesting facts about the Moon', \"The Moon is Earth's only satellite\", 'There are several interesting facts about the Moon and how it affects life here on Earth', 'On average, the Moon moves 4cm away from the Earth every year', 'This yearly drift is not significant enough to cause immediate effects on Earth', 'The highest daylight temperature of the Moon is 127 C.']\n"
     ]
    }
   ],
   "source": [
    "text_formatted = text.split('. ')\n",
    "print(text_formatted)"
   ]
  },
  {
   "cell_type": "code",
   "execution_count": 11,
   "metadata": {},
   "outputs": [
    {
     "name": "stdout",
     "output_type": "stream",
     "text": [
      "¿La palabra 'average' existe?: True\n",
      "¿La palabra 'temperature' existe?: True\n",
      "¿La palabra 'distance' existe?: False\n"
     ]
    }
   ],
   "source": [
    "print(f\"¿La palabra 'average' existe?: {text.find('average')!=-1}\")\n",
    "print(f\"¿La palabra 'temperature' existe?: {text.find('temperature')!=-1}\")\n",
    "print(f\"¿La palabra 'distance' existe?: {text.find('distance')!=-1}\")"
   ]
  },
  {
   "cell_type": "code",
   "execution_count": 12,
   "metadata": {},
   "outputs": [
    {
     "name": "stdout",
     "output_type": "stream",
     "text": [
      "On average, the Moon moves 4cm away from the Earth every year\n",
      "The highest daylight temperature of the Moon is 127 Celsius.\n"
     ]
    }
   ],
   "source": [
    "for text in text_formatted:\n",
    "    \n",
    "    if text.find('average')!=-1 or text.find('distance')!=-1 or text.find('temperature')!=-1:\n",
    "        \n",
    "        if text.find('C')!=-1:\n",
    "            text=text.replace('C', 'Celsius')\n",
    "        \n",
    "        print(text)"
   ]
  }
 ],
 "metadata": {
  "interpreter": {
   "hash": "74756ebef3aacf89df4beb8ec99ca9f43fa2a46955f7ab06bd848195cea45570"
  },
  "kernelspec": {
   "display_name": "Python 3.9.10 64-bit",
   "language": "python",
   "name": "python3"
  },
  "language_info": {
   "codemirror_mode": {
    "name": "ipython",
    "version": 3
   },
   "file_extension": ".py",
   "mimetype": "text/x-python",
   "name": "python",
   "nbconvert_exporter": "python",
   "pygments_lexer": "ipython3",
   "version": "3.9.10"
  },
  "orig_nbformat": 4
 },
 "nbformat": 4,
 "nbformat_minor": 2
}
