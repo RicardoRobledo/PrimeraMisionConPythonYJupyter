{
 "cells": [
  {
   "cell_type": "code",
   "execution_count": 14,
   "metadata": {},
   "outputs": [
    {
     "name": "stdout",
     "output_type": "stream",
     "text": [
      "Advertencia un asteroide se acerca con una velocidad de 49 km/s que es superior a los 25 km/s\n",
      "Programa terminado\n"
     ]
    }
   ],
   "source": [
    "import random\n",
    "\n",
    "\n",
    "def obtener_velocidad():\n",
    "\n",
    "    if random.randint(0,2)==0:\n",
    "\n",
    "        return 49\n",
    "\n",
    "    else:\n",
    "\n",
    "        return 10\n",
    "\n",
    "\n",
    "velocidad = obtener_velocidad()\n",
    "\n",
    "\n",
    "if velocidad>25:\n",
    "    \n",
    "    print(f'Advertencia un asteroide se acerca con una velocidad de {velocidad} km/s que es superior a los 25 km/s')\n",
    "\n",
    "print('Programa terminado')\n",
    "    "
   ]
  }
 ],
 "metadata": {
  "interpreter": {
   "hash": "74756ebef3aacf89df4beb8ec99ca9f43fa2a46955f7ab06bd848195cea45570"
  },
  "kernelspec": {
   "display_name": "Python 3.9.10 64-bit",
   "language": "python",
   "name": "python3"
  },
  "language_info": {
   "codemirror_mode": {
    "name": "ipython",
    "version": 3
   },
   "file_extension": ".py",
   "mimetype": "text/x-python",
   "name": "python",
   "nbconvert_exporter": "python",
   "pygments_lexer": "ipython3",
   "version": "3.9.10"
  },
  "orig_nbformat": 4
 },
 "nbformat": 4,
 "nbformat_minor": 2
}
