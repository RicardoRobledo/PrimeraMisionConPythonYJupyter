{
 "cells": [
  {
   "cell_type": "code",
   "execution_count": 5,
   "metadata": {},
   "outputs": [
    {
     "name": "stdout",
     "output_type": "stream",
     "text": [
      "Advertencia un asteroide se acerca a la tierra\n",
      "El asteroide va a golpear a la tierra!\n",
      "Programa terminado\n"
     ]
    }
   ],
   "source": [
    "import random\n",
    "\n",
    "\n",
    "def obtener_dimension():\n",
    "\n",
    "    return random.randint(0, 50)\n",
    "\n",
    "\n",
    "def obtener_velocidad():\n",
    "\n",
    "    return random.randint(0, 50)\n",
    "\n",
    "\n",
    "asteroide = dict()\n",
    "asteroide['dimension'] = obtener_dimension()\n",
    "asteroide['velocidad'] = obtener_velocidad()\n",
    "\n",
    "\n",
    "if asteroide['velocidad']>=25:\n",
    "\n",
    "    print('Advertencia un asteroide se acerca a la tierra') \n",
    "\n",
    "    \n",
    "    if asteroide['dimension']>25 and asteroide['dimension']<1000:\n",
    "        \n",
    "        print('El asteroide va a golpear a la tierra!')\n",
    "\n",
    "\n",
    "elif asteroide['velocidad']>=20:\n",
    "    \n",
    "    print('Se ha producido un rayo de luz que se puede ver desde la tierra')   \n",
    "\n",
    "\n",
    "print('Programa terminado')"
   ]
  }
 ],
 "metadata": {
  "interpreter": {
   "hash": "74756ebef3aacf89df4beb8ec99ca9f43fa2a46955f7ab06bd848195cea45570"
  },
  "kernelspec": {
   "display_name": "Python 3.9.10 64-bit",
   "language": "python",
   "name": "python3"
  },
  "language_info": {
   "codemirror_mode": {
    "name": "ipython",
    "version": 3
   },
   "file_extension": ".py",
   "mimetype": "text/x-python",
   "name": "python",
   "nbconvert_exporter": "python",
   "pygments_lexer": "ipython3",
   "version": "3.9.10"
  },
  "orig_nbformat": 4
 },
 "nbformat": 4,
 "nbformat_minor": 2
}
